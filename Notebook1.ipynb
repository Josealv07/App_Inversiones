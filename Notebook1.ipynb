{
 "cells": [
  {
   "cell_type": "markdown",
   "metadata": {},
   "source": [
    "construcion arbol "
   ]
  },
  {
   "cell_type": "code",
   "execution_count": 9,
   "metadata": {},
   "outputs": [],
   "source": [
    "from binance.cm_futures import CMFutures\n",
    "from binance.client import Client\n",
    "from funciones import *\n",
    "import pandas as pd\n",
    "import matplotlib.pyplot as plt\n",
    "import os\n",
    "import time\n",
    "import ccxt\n",
    "\n",
    "API_KEY = \"3a6Q0unsfYV8RXpehFENffnE4hgbWcNAaRRVjrEM99dUTt05l9vPQR1tCeZ8RTOh\"\n",
    "API_SECRET = \"aDW3Bwd0POckjdUrBm68kMYdm5CGpBW4FiWzVopLPkGuSOhqlwLLevy2VjOEkwIL\"\n",
    "symbol = \"BTCUSDT\"\n",
    "client = Client(api_key= API_KEY, api_secret= API_SECRET)\n",
    "\n",
    "lista_datos=[]\n",
    "\n",
    "def pedir_datos(moneda,client,limite):\n",
    "    \n",
    "    candles = client.get_klines(symbol= moneda, interval=Client.KLINE_INTERVAL_1MINUTE, limit = limite)\n",
    "    price_df = pd.DataFrame(candles, columns=['dateTime',\n",
    "                                            'open',\n",
    "                                            'high', 'low',\n",
    "                                            'close', 'volume',\n",
    "                                            'closeTime',\n",
    "                                            'quoteAssetVolume',\n",
    "                                            'numberOfTrades',\n",
    "                                            'takerBuyBaseVol',\n",
    "                                            'takerBuyQuoteVol', 'ignore'])\n",
    "    price_df.close = pd.to_numeric(price_df.close)\n",
    "\n",
    "    return price_df[\"close\"]\n"
   ]
  },
  {
   "cell_type": "code",
   "execution_count": 21,
   "metadata": {},
   "outputs": [],
   "source": [
    "# averiguar el estado de las posiciones \n",
    "\n",
    "def posiciones(api_key,api_secret, symbol):\n",
    "    exchange = ccxt.binance({\n",
    "        'apiKey': api_key,\n",
    "        'secret': api_secret,\n",
    "        'enableRateLimit': True,\n",
    "        'options': {\n",
    "            'defaultType': 'future',\n",
    "        }\n",
    "    })\n",
    "    # Obtener las posiciones abiertas\n",
    "    try:\n",
    "        positions = exchange.fapiPrivateGetPositionRisk()\n",
    "        if positions:\n",
    "            found_position = False\n",
    "            for position in positions:\n",
    "                if position['symbol'] == symbol:\n",
    "                    try:\n",
    "                        ROE = position['unRealizedProfit'] / position['initialMargin']\n",
    "                        print(f\"ROE:{ROE}\")\n",
    "                        found_position = True\n",
    "                        return [True,ROE] \n",
    "                    except:\n",
    "                        print('No hay ROE')\n",
    "                    \n",
    "            if not found_position:\n",
    "                print(\"No hay posición abierta para el símbolo:\", symbol)\n",
    "                return [False]\n",
    "        else:\n",
    "            print(\"No hay posiciones abiertas.\")\n",
    "    except Exception as e:\n",
    "        print(\"Error al obtener posiciones:\")\n",
    "        print(e)\n"
   ]
  },
  {
   "cell_type": "code",
   "execution_count": 25,
   "metadata": {},
   "outputs": [],
   "source": [
    "def calcular_bollinger_bands(precios, dias=20, k=2):\n",
    "    # Convertir la lista de precios a una serie de Pandas\n",
    "    precios = pd.Series(precios)\n",
    "\n",
    "    # Calcular la media móvil de los precios\n",
    "    sma = precios.rolling(window=dias).mean()\n",
    "\n",
    "    # Calcular la desviación estándar de los precios\n",
    "    std = precios.rolling(window=dias).std()\n",
    "\n",
    "    # Calcular las bandas de Bollinger superior e inferior\n",
    "    upper_band = sma + (k * std)\n",
    "    lower_band = sma - (k * std)\n",
    "\n",
    "    # Devolver un DataFrame con las bandas de Bollinger y la media móvil\n",
    "    Tabladatos = pd.DataFrame({'Precio': precios, 'Media Móvil': sma, 'Banda Superior': upper_band, 'Banda Inferior': lower_band})\n",
    "    \n",
    "    dato = len(precios) - 1\n",
    "    print(f\"Dato= {dato}\")\n",
    "    BS = Tabladatos[\"Banda Superior\"][dato] #Banda superior\n",
    "    print(f\"BS= {BS}\")\n",
    "    BI = Tabladatos[\"Banda Inferior\"][dato] #Banda inferior\n",
    "    print(f\"BI= {BI}\")\n",
    "    UP = precios[-1] #Ultimo Precio\n",
    "    print(f\"Ultimo Precio UP= {UP}\")\n",
    "    \n",
    "\n",
    "    if UP > BS:\n",
    "        Encima=True\n",
    "        Debajo = False\n",
    "        print(f\"Moneda:{moneda} --> Esta por encima de la banda de bollinger\")\n",
    "        return [True,Encima, Debajo]\n",
    "    \n",
    "    elif UP < BI:\n",
    "        Encima=False\n",
    "        Debajo=True\n",
    "        print(f\"Moneda:{moneda} --> Esta por debajo de la banda de bollinger\")\n",
    "        return [True,Encima, Debajo]\n",
    "    else:\n",
    "        return [False]"
   ]
  },
  {
   "cell_type": "code",
   "execution_count": 5,
   "metadata": {},
   "outputs": [],
   "source": [
    "def EntregaLista(moneda=\"BTCUSDT\"):\n",
    "    if len(lista_datos) <1000:\n",
    "        datos=pedir_datos(moneda,client,1000)\n",
    "        for element in datos:\n",
    "            lista_datos.append(element)\n",
    "        return lista_datos\n",
    "            \n",
    "\n",
    "    elif len(lista_datos) <4800:\n",
    "        dato=pedir_datos(moneda,client,1)                             #entrega una lista de datos\n",
    "        lista_datos.append(dato)\n",
    "        return lista_datos\n",
    "\n",
    "    elif len(lista_datos) >=4800:\n",
    "        dato=pedir_datos(moneda,client,1)\n",
    "        lista_datos.pop(0)\n",
    "        lista_datos.append(dato)\n",
    "        return lista_datos\n",
    "\n"
   ]
  },
  {
   "cell_type": "code",
   "execution_count": 24,
   "metadata": {},
   "outputs": [
    {
     "name": "stdout",
     "output_type": "stream",
     "text": [
      "No hay ROE\n",
      "No hay posición abierta para el símbolo: BTCUSDT\n",
      "No hay ROE 2\n"
     ]
    }
   ],
   "source": [
    "if posiciones(API_KEY, API_SECRET, \"BTCUSDT\")[0]:\n",
    "    "
   ]
  }
 ],
 "metadata": {
  "kernelspec": {
   "display_name": "Python 3",
   "language": "python",
   "name": "python3"
  },
  "language_info": {
   "codemirror_mode": {
    "name": "ipython",
    "version": 3
   },
   "file_extension": ".py",
   "mimetype": "text/x-python",
   "name": "python",
   "nbconvert_exporter": "python",
   "pygments_lexer": "ipython3",
   "version": "3.10.10"
  },
  "orig_nbformat": 4
 },
 "nbformat": 4,
 "nbformat_minor": 2
}
